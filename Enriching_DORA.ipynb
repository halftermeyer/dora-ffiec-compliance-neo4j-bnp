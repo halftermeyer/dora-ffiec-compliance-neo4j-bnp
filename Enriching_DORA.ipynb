{
 "cells": [
  {
   "cell_type": "code",
   "execution_count": 1,
   "id": "7e014aaa",
   "metadata": {},
   "outputs": [
    {
     "name": "stdout",
     "output_type": "stream",
     "text": [
      "Requirement already satisfied: openai==0.28 in /Users/pierrehalftermeyer/opt/anaconda3/lib/python3.8/site-packages (0.28.0)\n",
      "Requirement already satisfied: requests>=2.20 in /Users/pierrehalftermeyer/opt/anaconda3/lib/python3.8/site-packages (from openai==0.28) (2.31.0)\n",
      "Requirement already satisfied: tqdm in /Users/pierrehalftermeyer/opt/anaconda3/lib/python3.8/site-packages (from openai==0.28) (4.64.0)\n",
      "Requirement already satisfied: aiohttp in /Users/pierrehalftermeyer/opt/anaconda3/lib/python3.8/site-packages (from openai==0.28) (3.9.1)\n",
      "Requirement already satisfied: charset-normalizer<4,>=2 in /Users/pierrehalftermeyer/opt/anaconda3/lib/python3.8/site-packages (from requests>=2.20->openai==0.28) (2.0.12)\n",
      "Requirement already satisfied: idna<4,>=2.5 in /Users/pierrehalftermeyer/opt/anaconda3/lib/python3.8/site-packages (from requests>=2.20->openai==0.28) (2.10)\n",
      "Requirement already satisfied: urllib3<3,>=1.21.1 in /Users/pierrehalftermeyer/opt/anaconda3/lib/python3.8/site-packages (from requests>=2.20->openai==0.28) (1.26.4)\n",
      "Requirement already satisfied: certifi>=2017.4.17 in /Users/pierrehalftermeyer/opt/anaconda3/lib/python3.8/site-packages (from requests>=2.20->openai==0.28) (2020.12.5)\n",
      "Requirement already satisfied: attrs>=17.3.0 in /Users/pierrehalftermeyer/opt/anaconda3/lib/python3.8/site-packages (from aiohttp->openai==0.28) (20.3.0)\n",
      "Requirement already satisfied: multidict<7.0,>=4.5 in /Users/pierrehalftermeyer/opt/anaconda3/lib/python3.8/site-packages (from aiohttp->openai==0.28) (6.0.2)\n",
      "Requirement already satisfied: yarl<2.0,>=1.0 in /Users/pierrehalftermeyer/opt/anaconda3/lib/python3.8/site-packages (from aiohttp->openai==0.28) (1.7.2)\n",
      "Requirement already satisfied: frozenlist>=1.1.1 in /Users/pierrehalftermeyer/opt/anaconda3/lib/python3.8/site-packages (from aiohttp->openai==0.28) (1.3.0)\n",
      "Requirement already satisfied: aiosignal>=1.1.2 in /Users/pierrehalftermeyer/opt/anaconda3/lib/python3.8/site-packages (from aiohttp->openai==0.28) (1.2.0)\n",
      "Requirement already satisfied: async-timeout<5.0,>=4.0 in /Users/pierrehalftermeyer/opt/anaconda3/lib/python3.8/site-packages (from aiohttp->openai==0.28) (4.0.2)\n",
      "Note: you may need to restart the kernel to use updated packages.\n"
     ]
    }
   ],
   "source": [
    "pip install openai==0.28"
   ]
  },
  {
   "cell_type": "code",
   "execution_count": 2,
   "id": "e17ed697",
   "metadata": {},
   "outputs": [],
   "source": [
    "import requests, os, random, time, csv, json\n",
    "from collections import namedtuple\n",
    "from bs4 import BeautifulSoup\n",
    "import pandas as pd\n",
    "import openai\n",
    "from graphdatascience import GraphDataScience"
   ]
  },
  {
   "cell_type": "code",
   "execution_count": null,
   "id": "2925437d",
   "metadata": {},
   "outputs": [],
   "source": [
    "api_key = <key>\n",
    "NEO4J_URI = \"neo4j://localhost:7687\"\n",
    "NEO4J_USER = \"neo4j\"\n",
    "NEO4J_PASSWORD = <pw>\n",
    "import os\n",
    "os.environ[\"OPENAI_API_KEY\"] = api_key\n",
    "openai.api_key = api_key"
   ]
  },
  {
   "cell_type": "code",
   "execution_count": 8,
   "id": "04f2adce",
   "metadata": {},
   "outputs": [],
   "source": [
    "def get_embedding(text_to_embed):\n",
    "    # Embed a line of text\n",
    "    response = openai.Embedding.create(\n",
    "        model= \"text-embedding-ada-002\",\n",
    "        input=json.dumps([text_to_embed])\n",
    "    )\n",
    "    # Extract the AI output embedding as a list of floats\n",
    "    embedding = response[\"data\"][0][\"embedding\"]\n",
    "    \n",
    "    return embedding"
   ]
  },
  {
   "cell_type": "code",
   "execution_count": 28,
   "id": "27177ff2",
   "metadata": {},
   "outputs": [
    {
     "data": {
      "text/plain": [
       "[(1,\n",
       "  'Financial entities shall have a sound, comprehensive and well-documented ICT risk management framework as part of their overall risk management system, which enables them to address ICT risk quickly, efficiently and comprehensively and to ensure a high level of digital operational resilience.'),\n",
       " (2,\n",
       "  'The ICT risk management framework shall include at least strategies, policies, procedures, ICT protocols and tools that are necessary to duly and adequately protect all information assets and ICT assets, including computer software, hardware, servers, as well as to protect all relevant physical components and infrastructures, such as premises, data centres and sensitive designated areas, to ensure that all information assets and ICT assets are adequately protected from risks including damage and unauthorised access or usage.'),\n",
       " (3,\n",
       "  'In accordance with their ICT risk management framework, financial entities shall minimise the impact of ICT risk by deploying appropriate strategies, policies, procedures, ICT protocols and tools. They shall provide complete and updated information on ICT risk and on their ICT risk management framework to the competent authorities upon their request.'),\n",
       " (4,\n",
       "  'Financial entities, other than microenterprises, shall assign the responsibility for managing and overseeing ICT risk to a control function and ensure an appropriate level of independence of such control function in order to avoid conflicts of interest. Financial entities shall ensure appropriate segregation and independence of ICT risk management functions, control functions, and internal audit functions, according to the three lines of defence model, or an internal risk management and control model.'),\n",
       " (5,\n",
       "  'The ICT risk management framework shall be documented and reviewed at least once a year, or periodically in the case of microenterprises, as well as upon the occurrence of major ICT-related incidents, and following supervisory instructions or conclusions derived from relevant digital operational resilience testing or audit processes. It shall be continuously improved on the basis of lessons derived from implementation and monitoring. A report on the review of the ICT risk management framework shall be submitted to the competent authority upon its request.'),\n",
       " (6,\n",
       "  'The ICT risk management framework of financial entities, other than microenterprises, shall be subject to internal audit by auditors on a regular basis in line with the financial entities’ audit plan. Those auditors shall possess sufficient knowledge, skills and expertise in ICT risk, as well as appropriate independence. The frequency and focus of ICT audits shall be commensurate to the ICT risk of the financial entity.'),\n",
       " (7,\n",
       "  'Based on the conclusions from the internal audit review, financial entities shall establish a formal follow-up process, including rules for the timely verification and remediation of critical ICT audit findings.'),\n",
       " (8,\n",
       "  'The ICT risk management framework shall include a digital operational resilience strategy setting out how the framework shall be implemented. To that end, the digital operational resilience strategy shall include methods to address ICT risk and attain specific ICT objectives, by:(a)explaining how the ICT risk management framework supports the financial entity’s business strategy and objectives;(b)establishing the risk tolerance level for ICT risk, in accordance with the risk appetite of the financial entity, and analysing the impact tolerance for ICT disruptions;(c)setting out clear information security objectives, including key performance indicators and key risk metrics;(d)explaining the ICT reference architecture and any changes needed to reach specific business objectives;(e)outlining the different mechanisms put in place to detect ICT-related incidents, prevent their impact and provide protection from it;(f)evidencing the current digital operational resilience situation on the basis of the number of major ICT-related incidents reported and the effectiveness of preventive measures;(g)implementing digital operational resilience testing, in accordance with Chapter IV of this Regulation;(h)outlining a communication strategy in the event of ICT-related incidents the disclosure of which is required in accordance with Article\\xa014.'),\n",
       " (9,\n",
       "  'Financial entities may, in the context of the digital operational resilience strategy referred to in paragraph 8, define a holistic ICT multi-vendor strategy, at group or entity level, showing key dependencies on ICT third-party service providers and explaining the rationale behind the procurement mix of ICT third-party service providers.1'),\n",
       " (10,\n",
       "  'Financial entities may, in accordance with Union and national sectoral law, outsource the tasks of verifying compliance with ICT risk management requirements to intra-group or external undertakings. In case of such outsourcing, the financial entity remains fully responsible for the verification of compliance with the ICT risk management requirements.')]"
      ]
     },
     "execution_count": 28,
     "metadata": {},
     "output_type": "execute_result"
    }
   ],
   "source": [
    "import re\n",
    "df = pd.read_excel('DORA_EN_Finale.xlsx')\n",
    "\n",
    "def get_subarticles(article):\n",
    "    return [(sub_art, get_embedding(sub_art)) for ix, sub_art in enumerate(re.split(r\"\\d.\\xa0\\xa0\\xa0\", article)) if sub_art != \"\" ]"
   ]
  },
  {
   "cell_type": "code",
   "execution_count": 44,
   "id": "ddf0f5a6",
   "metadata": {
    "scrolled": true
   },
   "outputs": [],
   "source": [
    "sub_articles = []\n",
    "for index, row in df.iterrows():\n",
    "    for ix, sub, embedding in [(ix, sub_art, get_embedding(sub_art)) for ix, sub_art in enumerate(re.split(r\"\\d.\\xa0\\xa0\\xa0\", row[\"Textes de lois\"])) if sub_art != \"\" ]:\n",
    "        sub_article = {\n",
    "            \"from_article\": row.Articles.replace(\"\\xa0\",\" \"),\n",
    "            \"title_article\": row[\"énnoncer de l'article\"],\n",
    "            \"sub_article_ix\": ix,\n",
    "            \"sub_article_text\": sub,\n",
    "            \"sub_article_text_embedding\": embedding\n",
    "        }\n",
    "        sub_articles.append(sub_article)"
   ]
  },
  {
   "cell_type": "code",
   "execution_count": 45,
   "id": "7f49a640",
   "metadata": {},
   "outputs": [],
   "source": [
    "df_sub_emb = pd.DataFrame.from_dict(sub_articles)"
   ]
  },
  {
   "cell_type": "code",
   "execution_count": 46,
   "id": "66730197",
   "metadata": {},
   "outputs": [],
   "source": [
    "df_sub_emb.to_csv('dora_sub_articles_with_embedding.csv')"
   ]
  },
  {
   "cell_type": "code",
   "execution_count": null,
   "id": "500fe064",
   "metadata": {},
   "outputs": [],
   "source": []
  },
  {
   "cell_type": "code",
   "execution_count": 10,
   "id": "af0924ba",
   "metadata": {},
   "outputs": [],
   "source": [
    "df['paragraph_embedding'] = df['Textes de lois'].map(get_embedding)"
   ]
  },
  {
   "cell_type": "code",
   "execution_count": 11,
   "id": "450c33b3",
   "metadata": {},
   "outputs": [],
   "source": [
    "df.to_csv('dora_paragraphs_with_embedding.csv')"
   ]
  }
 ],
 "metadata": {
  "kernelspec": {
   "display_name": "Python 3",
   "language": "python",
   "name": "python3"
  },
  "language_info": {
   "codemirror_mode": {
    "name": "ipython",
    "version": 3
   },
   "file_extension": ".py",
   "mimetype": "text/x-python",
   "name": "python",
   "nbconvert_exporter": "python",
   "pygments_lexer": "ipython3",
   "version": "3.8.8"
  }
 },
 "nbformat": 4,
 "nbformat_minor": 5
}
