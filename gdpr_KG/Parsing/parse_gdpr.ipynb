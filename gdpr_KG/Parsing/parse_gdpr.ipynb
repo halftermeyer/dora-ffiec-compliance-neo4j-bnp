{
 "cells": [
  {
   "cell_type": "code",
   "execution_count": 1,
   "id": "83a71a30",
   "metadata": {},
   "outputs": [],
   "source": [
    "from graphdatascience import GraphDataScience"
   ]
  },
  {
   "cell_type": "code",
   "execution_count": 2,
   "id": "a44feec9",
   "metadata": {},
   "outputs": [],
   "source": [
    "gds = GraphDataScience(\"neo4j://localhost\", auth=(\"neo4j\", \"pierre!!\"))"
   ]
  },
  {
   "cell_type": "code",
   "execution_count": 3,
   "id": "55e3cbc3",
   "metadata": {},
   "outputs": [],
   "source": [
    "def iterate_gdpr(file):\n",
    "    res = {}\n",
    "    res[\"regulation\"] = \"gdpr\"\n",
    "    res[\"label\"] = \"Regulation\"\n",
    "    res[\"text\"]=\"\"\"REGULATION (EU) 2016/679 OF THE EUROPEAN PARLIAMENT AND OF THE COUNCIL\n",
    "\n",
    "of 27 April 2016\n",
    "\n",
    "on the protection of natural persons with regard to the processing of personal data and on the free movement of such data, and repealing Directive 95/46/EC (General Data Protection Regulation)\n",
    "\n",
    "(Text with EEA relevance)\"\"\".strip().replace(\"\\n\", \" \")\n",
    "    yield dict(res)\n",
    "    for line in open(file, \"r\").readlines():\n",
    "        line = line.strip()\n",
    "        if line == '':\n",
    "            continue\n",
    "        #print(line, line[0], line[-1])\n",
    "        if line.startswith('CHAPTER'):\n",
    "            _, iden = line.split(' ')\n",
    "            res[\"chapter\"] = iden\n",
    "            res[\"label\"] = \"Chapter\"\n",
    "            res.pop(\"article\", None)\n",
    "            res.pop(\"paragraph\", None)\n",
    "            res.pop(\"point\", None)\n",
    "            res.pop(\"text\", None)\n",
    "        elif line.startswith('Article'):\n",
    "            _, iden = line.split(' ')\n",
    "            res[\"article\"] = iden\n",
    "            res[\"label\"] = \"Article\"\n",
    "            res.pop(\"paragraph\", None)\n",
    "            res.pop(\"point\", None)\n",
    "            res.pop(\"text\", None)\n",
    "        elif line[1:5] == \".   \":\n",
    "            iden, text = line.split(\".   \")\n",
    "            res[\"paragraph\"] = int(iden)\n",
    "            res[\"label\"] = \"Paragraph\"\n",
    "            res[\"text\"] = text\n",
    "            res.pop(\"point\", None)\n",
    "            yield dict(res)\n",
    "        elif line[0] == '(' and line[-1] == ')':\n",
    "            res[\"point\"] = line[1:-1]\n",
    "            res[\"label\"] = \"Point\"\n",
    "            res.pop(\"text\", None)\n",
    "        else:\n",
    "            res[\"text\"] = line\n",
    "            yield dict(res)\n",
    "            "
   ]
  },
  {
   "cell_type": "code",
   "execution_count": 4,
   "id": "e0e817b7",
   "metadata": {},
   "outputs": [],
   "source": [
    "# manage points and subpoints (ex (1) then (a), (b) )\n",
    "data = [item for item in iterate_gdpr(\"gdpr.txt\")]\n",
    "processed_data = []\n",
    "for item in data:\n",
    "    if item['label'] == 'Point':\n",
    "        if processed_data[-1]['label'] == 'Point':\n",
    "            cpt = 0\n",
    "            if processed_data[-1][\"point\"].isnumeric():\n",
    "                cpt += 1\n",
    "            if item[\"point\"].isnumeric():\n",
    "                cpt += 1\n",
    "            if cpt == 1:\n",
    "                item[\"subpoint\"] = item[\"point\"]\n",
    "                item[\"point\"] = processed_data[-1][\"point\"]\n",
    "                item[\"label\"] = \"SubPoint\"\n",
    "        if processed_data[-1]['label'] == 'SubPoint':\n",
    "            cpt = 0\n",
    "            if processed_data[-1][\"subpoint\"].isnumeric():\n",
    "                cpt += 1\n",
    "            if item[\"point\"].isnumeric():\n",
    "                cpt += 1\n",
    "            if cpt != 1:\n",
    "                item[\"subpoint\"] = item[\"point\"]\n",
    "                item[\"point\"] = processed_data[-1][\"point\"]\n",
    "                item[\"label\"] = \"SubPoint\"\n",
    "    processed_data += [item]\n",
    "        "
   ]
  },
  {
   "cell_type": "code",
   "execution_count": 6,
   "id": "e2d81bd5",
   "metadata": {},
   "outputs": [
    {
     "data": {
      "text/html": [
       "<div>\n",
       "<style scoped>\n",
       "    .dataframe tbody tr th:only-of-type {\n",
       "        vertical-align: middle;\n",
       "    }\n",
       "\n",
       "    .dataframe tbody tr th {\n",
       "        vertical-align: top;\n",
       "    }\n",
       "\n",
       "    .dataframe thead th {\n",
       "        text-align: right;\n",
       "    }\n",
       "</style>\n",
       "<table border=\"1\" class=\"dataframe\">\n",
       "  <thead>\n",
       "    <tr style=\"text-align: right;\">\n",
       "      <th></th>\n",
       "    </tr>\n",
       "  </thead>\n",
       "  <tbody>\n",
       "  </tbody>\n",
       "</table>\n",
       "</div>"
      ],
      "text/plain": [
       "Empty DataFrame\n",
       "Columns: []\n",
       "Index: []"
      ]
     },
     "execution_count": 6,
     "metadata": {},
     "output_type": "execute_result"
    }
   ],
   "source": [
    "query =\"\"\"\n",
    "UNWIND $data AS i_data\n",
    "CALL {\n",
    "    WITH i_data\n",
    "    CREATE (i:Chunk)\n",
    "    SET i+= i_data\n",
    "} IN TRANSACTIONS OF 100 ROWS\n",
    "\"\"\"\n",
    "gds.run_cypher(query, {\"data\":processed_data})"
   ]
  },
  {
   "cell_type": "code",
   "execution_count": null,
   "id": "cd4a642a",
   "metadata": {},
   "outputs": [],
   "source": []
  }
 ],
 "metadata": {
  "kernelspec": {
   "display_name": "Python 3",
   "language": "python",
   "name": "python3"
  },
  "language_info": {
   "codemirror_mode": {
    "name": "ipython",
    "version": 3
   },
   "file_extension": ".py",
   "mimetype": "text/x-python",
   "name": "python",
   "nbconvert_exporter": "python",
   "pygments_lexer": "ipython3",
   "version": "3.11.1 (main, Dec 23 2022, 09:40:27) [Clang 14.0.0 (clang-1400.0.29.202)]"
  },
  "vscode": {
   "interpreter": {
    "hash": "1a1af0ee75eeea9e2e1ee996c87e7a2b11a0bebd85af04bb136d915cefc0abce"
   }
  }
 },
 "nbformat": 4,
 "nbformat_minor": 5
}
