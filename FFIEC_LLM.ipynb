{
 "cells": [
  {
   "cell_type": "code",
   "execution_count": 3,
   "id": "83263807",
   "metadata": {},
   "outputs": [
    {
     "name": "stdout",
     "output_type": "stream",
     "text": [
      "Requirement already satisfied: langchain in /Users/pierrehalftermeyer/opt/anaconda3/lib/python3.8/site-packages (0.0.343)\n",
      "Requirement already satisfied: PyYAML>=5.3 in /Users/pierrehalftermeyer/opt/anaconda3/lib/python3.8/site-packages (from langchain) (5.4.1)\n",
      "Requirement already satisfied: SQLAlchemy<3,>=1.4 in /Users/pierrehalftermeyer/opt/anaconda3/lib/python3.8/site-packages (from langchain) (1.4.7)\n",
      "Requirement already satisfied: aiohttp<4.0.0,>=3.8.3 in /Users/pierrehalftermeyer/opt/anaconda3/lib/python3.8/site-packages (from langchain) (3.9.1)\n",
      "Requirement already satisfied: anyio<4.0 in /Users/pierrehalftermeyer/opt/anaconda3/lib/python3.8/site-packages (from langchain) (3.7.1)\n",
      "Requirement already satisfied: async-timeout<5.0.0,>=4.0.0 in /Users/pierrehalftermeyer/opt/anaconda3/lib/python3.8/site-packages (from langchain) (4.0.2)\n",
      "Requirement already satisfied: dataclasses-json<0.7,>=0.5.7 in /Users/pierrehalftermeyer/opt/anaconda3/lib/python3.8/site-packages (from langchain) (0.6.3)\n",
      "Requirement already satisfied: jsonpatch<2.0,>=1.33 in /Users/pierrehalftermeyer/opt/anaconda3/lib/python3.8/site-packages (from langchain) (1.33)\n",
      "Requirement already satisfied: langchain-core<0.1,>=0.0.7 in /Users/pierrehalftermeyer/opt/anaconda3/lib/python3.8/site-packages (from langchain) (0.0.7)\n",
      "Requirement already satisfied: langsmith<0.1.0,>=0.0.63 in /Users/pierrehalftermeyer/opt/anaconda3/lib/python3.8/site-packages (from langchain) (0.0.67)\n",
      "Requirement already satisfied: numpy<2,>=1 in /Users/pierrehalftermeyer/opt/anaconda3/lib/python3.8/site-packages (from langchain) (1.20.1)\n",
      "Requirement already satisfied: pydantic<3,>=1 in /Users/pierrehalftermeyer/opt/anaconda3/lib/python3.8/site-packages (from langchain) (2.5.2)\n",
      "Requirement already satisfied: requests<3,>=2 in /Users/pierrehalftermeyer/opt/anaconda3/lib/python3.8/site-packages (from langchain) (2.25.1)\n",
      "Requirement already satisfied: tenacity<9.0.0,>=8.1.0 in /Users/pierrehalftermeyer/opt/anaconda3/lib/python3.8/site-packages (from langchain) (8.2.3)\n",
      "Requirement already satisfied: attrs>=17.3.0 in /Users/pierrehalftermeyer/opt/anaconda3/lib/python3.8/site-packages (from aiohttp<4.0.0,>=3.8.3->langchain) (20.3.0)\n",
      "Requirement already satisfied: multidict<7.0,>=4.5 in /Users/pierrehalftermeyer/opt/anaconda3/lib/python3.8/site-packages (from aiohttp<4.0.0,>=3.8.3->langchain) (6.0.2)\n",
      "Requirement already satisfied: yarl<2.0,>=1.0 in /Users/pierrehalftermeyer/opt/anaconda3/lib/python3.8/site-packages (from aiohttp<4.0.0,>=3.8.3->langchain) (1.7.2)\n",
      "Requirement already satisfied: frozenlist>=1.1.1 in /Users/pierrehalftermeyer/opt/anaconda3/lib/python3.8/site-packages (from aiohttp<4.0.0,>=3.8.3->langchain) (1.3.0)\n",
      "Requirement already satisfied: aiosignal>=1.1.2 in /Users/pierrehalftermeyer/opt/anaconda3/lib/python3.8/site-packages (from aiohttp<4.0.0,>=3.8.3->langchain) (1.2.0)\n",
      "Requirement already satisfied: idna>=2.8 in /Users/pierrehalftermeyer/opt/anaconda3/lib/python3.8/site-packages (from anyio<4.0->langchain) (2.10)\n",
      "Requirement already satisfied: sniffio>=1.1 in /Users/pierrehalftermeyer/opt/anaconda3/lib/python3.8/site-packages (from anyio<4.0->langchain) (1.2.0)\n",
      "Requirement already satisfied: exceptiongroup in /Users/pierrehalftermeyer/opt/anaconda3/lib/python3.8/site-packages (from anyio<4.0->langchain) (1.1.2)\n",
      "Requirement already satisfied: marshmallow<4.0.0,>=3.18.0 in /Users/pierrehalftermeyer/opt/anaconda3/lib/python3.8/site-packages (from dataclasses-json<0.7,>=0.5.7->langchain) (3.20.1)\n",
      "Requirement already satisfied: typing-inspect<1,>=0.4.0 in /Users/pierrehalftermeyer/opt/anaconda3/lib/python3.8/site-packages (from dataclasses-json<0.7,>=0.5.7->langchain) (0.9.0)\n",
      "Requirement already satisfied: jsonpointer>=1.9 in /Users/pierrehalftermeyer/opt/anaconda3/lib/python3.8/site-packages (from jsonpatch<2.0,>=1.33->langchain) (2.4)\n",
      "Requirement already satisfied: annotated-types>=0.4.0 in /Users/pierrehalftermeyer/opt/anaconda3/lib/python3.8/site-packages (from pydantic<3,>=1->langchain) (0.6.0)\n",
      "Requirement already satisfied: pydantic-core==2.14.5 in /Users/pierrehalftermeyer/opt/anaconda3/lib/python3.8/site-packages (from pydantic<3,>=1->langchain) (2.14.5)\n",
      "Requirement already satisfied: typing-extensions>=4.6.1 in /Users/pierrehalftermeyer/opt/anaconda3/lib/python3.8/site-packages (from pydantic<3,>=1->langchain) (4.8.0)\n",
      "Requirement already satisfied: chardet<5,>=3.0.2 in /Users/pierrehalftermeyer/opt/anaconda3/lib/python3.8/site-packages (from requests<3,>=2->langchain) (4.0.0)\n",
      "Requirement already satisfied: urllib3<1.27,>=1.21.1 in /Users/pierrehalftermeyer/opt/anaconda3/lib/python3.8/site-packages (from requests<3,>=2->langchain) (1.26.4)\n",
      "Requirement already satisfied: certifi>=2017.4.17 in /Users/pierrehalftermeyer/opt/anaconda3/lib/python3.8/site-packages (from requests<3,>=2->langchain) (2020.12.5)\n",
      "Requirement already satisfied: greenlet!=0.4.17 in /Users/pierrehalftermeyer/opt/anaconda3/lib/python3.8/site-packages (from SQLAlchemy<3,>=1.4->langchain) (1.0.0)\n",
      "Requirement already satisfied: packaging>=17.0 in /Users/pierrehalftermeyer/opt/anaconda3/lib/python3.8/site-packages (from marshmallow<4.0.0,>=3.18.0->dataclasses-json<0.7,>=0.5.7->langchain) (20.9)\n",
      "Requirement already satisfied: mypy-extensions>=0.3.0 in /Users/pierrehalftermeyer/opt/anaconda3/lib/python3.8/site-packages (from typing-inspect<1,>=0.4.0->dataclasses-json<0.7,>=0.5.7->langchain) (0.4.3)\n",
      "Requirement already satisfied: pyparsing>=2.0.2 in /Users/pierrehalftermeyer/opt/anaconda3/lib/python3.8/site-packages (from packaging>=17.0->marshmallow<4.0.0,>=3.18.0->dataclasses-json<0.7,>=0.5.7->langchain) (2.4.7)\n"
     ]
    }
   ],
   "source": [
    "!pip install --upgrade langchain"
   ]
  },
  {
   "cell_type": "code",
   "execution_count": 4,
   "id": "882aa7fd",
   "metadata": {},
   "outputs": [
    {
     "name": "stdout",
     "output_type": "stream",
     "text": [
      "Requirement already satisfied: openai in /Users/pierrehalftermeyer/opt/anaconda3/lib/python3.8/site-packages (1.3.6)\n",
      "Requirement already satisfied: anyio<4,>=3.5.0 in /Users/pierrehalftermeyer/opt/anaconda3/lib/python3.8/site-packages (from openai) (3.7.1)\n",
      "Requirement already satisfied: distro<2,>=1.7.0 in /Users/pierrehalftermeyer/opt/anaconda3/lib/python3.8/site-packages (from openai) (1.8.0)\n",
      "Requirement already satisfied: httpx<1,>=0.23.0 in /Users/pierrehalftermeyer/opt/anaconda3/lib/python3.8/site-packages (from openai) (0.24.1)\n",
      "Requirement already satisfied: pydantic<3,>=1.9.0 in /Users/pierrehalftermeyer/opt/anaconda3/lib/python3.8/site-packages (from openai) (2.5.2)\n",
      "Requirement already satisfied: sniffio in /Users/pierrehalftermeyer/opt/anaconda3/lib/python3.8/site-packages (from openai) (1.2.0)\n",
      "Requirement already satisfied: tqdm>4 in /Users/pierrehalftermeyer/opt/anaconda3/lib/python3.8/site-packages (from openai) (4.64.0)\n",
      "Requirement already satisfied: typing-extensions<5,>=4.5 in /Users/pierrehalftermeyer/opt/anaconda3/lib/python3.8/site-packages (from openai) (4.8.0)\n",
      "Requirement already satisfied: idna>=2.8 in /Users/pierrehalftermeyer/opt/anaconda3/lib/python3.8/site-packages (from anyio<4,>=3.5.0->openai) (2.10)\n",
      "Requirement already satisfied: exceptiongroup in /Users/pierrehalftermeyer/opt/anaconda3/lib/python3.8/site-packages (from anyio<4,>=3.5.0->openai) (1.1.2)\n",
      "Requirement already satisfied: certifi in /Users/pierrehalftermeyer/opt/anaconda3/lib/python3.8/site-packages (from httpx<1,>=0.23.0->openai) (2020.12.5)\n",
      "Requirement already satisfied: httpcore<0.18.0,>=0.15.0 in /Users/pierrehalftermeyer/opt/anaconda3/lib/python3.8/site-packages (from httpx<1,>=0.23.0->openai) (0.17.3)\n",
      "Requirement already satisfied: annotated-types>=0.4.0 in /Users/pierrehalftermeyer/opt/anaconda3/lib/python3.8/site-packages (from pydantic<3,>=1.9.0->openai) (0.6.0)\n",
      "Requirement already satisfied: pydantic-core==2.14.5 in /Users/pierrehalftermeyer/opt/anaconda3/lib/python3.8/site-packages (from pydantic<3,>=1.9.0->openai) (2.14.5)\n",
      "Requirement already satisfied: h11<0.15,>=0.13 in /Users/pierrehalftermeyer/opt/anaconda3/lib/python3.8/site-packages (from httpcore<0.18.0,>=0.15.0->httpx<1,>=0.23.0->openai) (0.14.0)\n"
     ]
    }
   ],
   "source": [
    "!pip install --upgrade openai"
   ]
  },
  {
   "cell_type": "code",
   "execution_count": 22,
   "id": "58a282e1",
   "metadata": {},
   "outputs": [
    {
     "name": "stdout",
     "output_type": "stream",
     "text": [
      "Requirement already satisfied: tiktoken in /Users/pierrehalftermeyer/opt/anaconda3/lib/python3.8/site-packages (0.5.1)\n",
      "Requirement already satisfied: regex>=2022.1.18 in /Users/pierrehalftermeyer/opt/anaconda3/lib/python3.8/site-packages (from tiktoken) (2022.4.24)\n",
      "Requirement already satisfied: requests>=2.26.0 in /Users/pierrehalftermeyer/opt/anaconda3/lib/python3.8/site-packages (from tiktoken) (2.31.0)\n",
      "Requirement already satisfied: charset-normalizer<4,>=2 in /Users/pierrehalftermeyer/opt/anaconda3/lib/python3.8/site-packages (from requests>=2.26.0->tiktoken) (2.0.12)\n",
      "Requirement already satisfied: idna<4,>=2.5 in /Users/pierrehalftermeyer/opt/anaconda3/lib/python3.8/site-packages (from requests>=2.26.0->tiktoken) (2.10)\n",
      "Requirement already satisfied: urllib3<3,>=1.21.1 in /Users/pierrehalftermeyer/opt/anaconda3/lib/python3.8/site-packages (from requests>=2.26.0->tiktoken) (1.26.4)\n",
      "Requirement already satisfied: certifi>=2017.4.17 in /Users/pierrehalftermeyer/opt/anaconda3/lib/python3.8/site-packages (from requests>=2.26.0->tiktoken) (2020.12.5)\n"
     ]
    }
   ],
   "source": [
    "!pip install --upgrade tiktoken"
   ]
  },
  {
   "cell_type": "code",
   "execution_count": null,
   "id": "14a0f4f3",
   "metadata": {},
   "outputs": [],
   "source": [
    "api_key = <key>\n",
    "NEO4J_URI = \"neo4j://localhost:7687\"\n",
    "NEO4J_USER = \"neo4j\"\n",
    "NEO4J_PASSWORD = <pw>\n",
    "import os\n",
    "os.environ[\"OPENAI_API_KEY\"] = api_key"
   ]
  },
  {
   "cell_type": "code",
   "execution_count": 16,
   "id": "ee0ad871",
   "metadata": {},
   "outputs": [],
   "source": [
    "from langchain.chains import LLMChain\n",
    "from langchain.llms import OpenAI\n",
    "from langchain.prompts import PromptTemplate\n",
    "from langchain.schema import StrOutputParser"
   ]
  },
  {
   "cell_type": "code",
   "execution_count": 17,
   "id": "3ca5bc95",
   "metadata": {},
   "outputs": [
    {
     "name": "stdout",
     "output_type": "stream",
     "text": [
      "\n",
      "Well, apples is pears, mate! They're nice and juicy, and perfect for a snack. I've got a few Grannies and a few Coxes if you're interested.\n"
     ]
    }
   ],
   "source": [
    "llm = OpenAI()\n",
    "\n",
    "template = PromptTemplate.from_template(\"\"\"\n",
    "You are a cockney fruit and vegetable seller.\n",
    "Your role is to assist your customer with their fruit and vegetable needs.\n",
    "Respond using cockney rhyming slang.\n",
    "\n",
    "Tell me about the following fruit: {fruit}\n",
    "\"\"\")\n",
    "\n",
    "llm_chain = LLMChain(\n",
    "    llm=llm,\n",
    "    prompt=template,\n",
    "    output_parser=StrOutputParser()\n",
    ")\n",
    "\n",
    "response = llm_chain.run(fruit=\"apple\")\n",
    "\n",
    "print(response)"
   ]
  },
  {
   "cell_type": "code",
   "execution_count": 10,
   "id": "d3e73898",
   "metadata": {},
   "outputs": [],
   "source": [
    "response = llm(\"What is Neo4j?\")"
   ]
  },
  {
   "cell_type": "code",
   "execution_count": 98,
   "id": "b5cf1592",
   "metadata": {},
   "outputs": [
    {
     "name": "stderr",
     "output_type": "stream",
     "text": [
      "/Users/pierrehalftermeyer/opt/anaconda3/lib/python3.8/site-packages/langchain/vectorstores/neo4j_vector.py:167: ExperimentalWarning: The configuration may change in the future.\n",
      "  self._driver.verify_connectivity()\n"
     ]
    },
    {
     "name": "stdout",
     "output_type": "stream",
     "text": [
      ">Strategic plans that include significant market expansion or the addition of new products and services may expose financial institutions to increased risks. Which ones ?\n",
      "\n",
      "\n",
      "\u001b[1m> Entering new AgentExecutor chain...\u001b[0m\n",
      "\u001b[32;1m\u001b[1;3m{\n",
      "    \"action\": \"ParagraphRetrieval\",\n",
      "    \"action_input\": \"Strategic plans that include significant market expansion or the addition of new products and services may expose financial institutions to increased risks.\"\n",
      "}\u001b[0m\n",
      "\n",
      "\u001b[1m> Entering new RetrievalQA chain...\u001b[0m\n",
      "\n",
      "\u001b[1m> Finished chain.\u001b[0m\n",
      "\n",
      "Observation: \u001b[33;1m\u001b[1;3m{'query': 'Strategic plans that include significant market expansion or the addition of new products and services may expose financial institutions to increased risks.', 'result': \"Yes, strategic plans that involve significant market expansion or the addition of new products and services can expose financial institutions to increased risks. This is because entering new markets or introducing new products and services often involves uncertainties and challenges that can impact the institution's earnings, capital, and reputation. It is important for financial institutions to carefully assess and manage these risks as part of their strategic planning process.\", 'source_documents': [Document(page_content=\"Strategic risk is associated with the financial institution's mission and future business plans.\\xa0 This risk category includes plans for entering new business lines, expanding existing services through mergers and acquisitions, and enhancing infrastructure (e.g., physical plant and equipment, IT, and networking).\\xa0 The variety of emerging technologies for retail payments demands integration of payment strategies into the financial institution's overall strategic planning processes.\\xa0 Financial institutions also compete increasingly with highly innovative nonbank entities to provide retail payment services.\\xa0 This competition benefits the consumer through enhanced product offerings at a lower cost.\\xa0 Conversely, competition places additional pressure on financial institutions to protect profitability through the development of new products and services while managing additional marketing, research, and development costs.\\nStrategic plans that include significant market expansion or the addition of new products and services may expose financial institutions to increased risks.\\xa0 For example, expanding Internet banking services to include electronic bill presentment and payment services, expanding existing bankcard issuing programs, or entering the merchant bankcard processing business significantly increase the potential risk to the financial institution given the inherent risks associated with these services.\\xa0 Business plans for specific products and services should demonstrate that management has assessed the risks and documented the institution's program to mitigate them.\\xa0 Such plans should address the institution's capability to provide the service.\\xa0 Innovative products and services are emerging quickly and early stages of market introduction may expose financial institutions to undefined and unanticipated risks the need for an enterprise wide view of retail payment activities due to cross channel risk including fraud, money laundering, and IT security breaches.\\xa0 Business models for emerging products that are gaining acceptance abroad, particularly in Asia, may not be introduced as easily in the U.S. because of the differences in infrastructure and applications.\\nTo mitigate strategic risk, management should have a strategic planning processSee the IT Handbook Management Booklet that addresses its retail payment business goals and objectives, including supporting IT components.\\xa0 Because financial institutions are increasingly reliant upon third-party service providers for retail payment system products and services, the strategic plan should address comprehensive vendor management.\", metadata={'title': 'Strategic Risk', 'paragraph_ordering': 0, 'depth': 2, 'section': 'https://ithandbook.ffiec.gov/it-booklets/retail-payment-systems/', 'ordering_ix': 26, 'url': 'https://ithandbook.ffiec.gov/it-booklets/retail-payment-systems/retail-payment-systems-risk-management/strategic-risk/'}), Document(page_content=\"Reputation risk-Errors, delays, or omissions in information technology that become public knowledge or directly affect customers can significantly affect the reputation of the serviced financial institutions. For example, a TSP's failure to maintain adequate business resumption plans and facilities for key processes may impair the ability of serviced financial institutions to provide critical services to their customers.\\nStrategic risk-Inadequate management experience and expertise can lead to a lack of understanding and control of key risks. Additionally, inaccurate information from TSPs can cause the management of serviced financial institutions to make poor strategic decisions.\\nCompliance (legal) risk-Outsourced activities that fail to comply with legal or regulatory requirements can subject the institution to legal sanctions. For example, inaccurate or untimely consumer compliance disclosures or unauthorized disclosure of confidential customer information could expose the institution to civil money penalties or litigation. TSPs often agree to comply with banking regulations, but their failure to track regulatory changes could increase compliance risk for their serviced financial institutions.\\nInterest rate, liquidity, and price (market) risk-Processing errors related to investment income or repayment assumptions could lead to unwise investment or liquidity decisions thereby increasing market risks.\", metadata={'title': 'Risk Assessment and Requirements', 'paragraph_ordering': 4, 'depth': 2, 'section': 'https://ithandbook.ffiec.gov/it-booklets/outsourcing-technology-services/', 'ordering_ix': 3, 'url': 'https://ithandbook.ffiec.gov/it-booklets/outsourcing-technology-services/risk-management/risk-assessment-and-requirements/'}), Document(page_content=\"Risk\\nThe potential that events, expected or unanticipated, may have an adverse effect on a financial institution's earnings, capital, or reputation.\", metadata={'title': 'Appendix B: Glossary', 'paragraph_ordering': 132, 'depth': 1, 'section': 'https://ithandbook.ffiec.gov/it-booklets/management/', 'ordering_ix': 38, 'url': 'https://ithandbook.ffiec.gov/it-booklets/management/appendix-b-glossary/'}), Document(page_content='Strategic plans relating to the introduction of new retail payment system products and services.\\nThe development of internal pilot programs and partnerships with technology service providers introducing new retail payment systems and delivery channels.\\nThe extent to which existing Internet and e-banking products and services include new retail payment mechanisms.', metadata={'title': 'Appendix A: Examination Procedures', 'paragraph_ordering': 60, 'depth': 1, 'section': 'https://ithandbook.ffiec.gov/it-booklets/retail-payment-systems/', 'ordering_ix': 45, 'url': 'https://ithandbook.ffiec.gov/it-booklets/retail-payment-systems/appendix-a-examination-procedures/'})]}\u001b[0m\n",
      "\u001b[32;1m\u001b[1;3m\u001b[0m\n",
      "\n",
      "\u001b[1m> Finished chain.\u001b[0m\n",
      "{'input': 'Strategic plans that include significant market expansion or the addition of new products and services may expose financial institutions to increased risks. Which ones ?', 'chat_history': [HumanMessage(content='Strategic plans that include significant market expansion or the addition of new products and services may expose financial institutions to increased risks. Which ones ?'), AIMessage(content='{\\'query\\': \\'Strategic plans that include significant market expansion or the addition of new products and services may expose financial institutions to increased risks.\\', \\'result\\': \"Yes, strategic plans that involve significant market expansion or the addition of new products and services can expose financial institutions to increased risks. This is because entering new markets or introducing new products and services often involves uncertainties and challenges that can impact the institution\\'s earnings, capital, and reputation. It is important for financial institutions to carefully assess and manage these risks as part of their strategic planning process.\", \\'source_documents\\': [Document(page_content=\"Strategic risk is associated with the financial institution\\'s mission and future business plans.\\\\xa0 This risk category includes plans for entering new business lines, expanding existing services through mergers and acquisitions, and enhancing infrastructure (e.g., physical plant and equipment, IT, and networking).\\\\xa0 The variety of emerging technologies for retail payments demands integration of payment strategies into the financial institution\\'s overall strategic planning processes.\\\\xa0 Financial institutions also compete increasingly with highly innovative nonbank entities to provide retail payment services.\\\\xa0 This competition benefits the consumer through enhanced product offerings at a lower cost.\\\\xa0 Conversely, competition places additional pressure on financial institutions to protect profitability through the development of new products and services while managing additional marketing, research, and development costs.\\\\nStrategic plans that include significant market expansion or the addition of new products and services may expose financial institutions to increased risks.\\\\xa0 For example, expanding Internet banking services to include electronic bill presentment and payment services, expanding existing bankcard issuing programs, or entering the merchant bankcard processing business significantly increase the potential risk to the financial institution given the inherent risks associated with these services.\\\\xa0 Business plans for specific products and services should demonstrate that management has assessed the risks and documented the institution\\'s program to mitigate them.\\\\xa0 Such plans should address the institution\\'s capability to provide the service.\\\\xa0 Innovative products and services are emerging quickly and early stages of market introduction may expose financial institutions to undefined and unanticipated risks the need for an enterprise wide view of retail payment activities due to cross channel risk including fraud, money laundering, and IT security breaches.\\\\xa0 Business models for emerging products that are gaining acceptance abroad, particularly in Asia, may not be introduced as easily in the U.S. because of the differences in infrastructure and applications.\\\\nTo mitigate strategic risk, management should have a strategic planning processSee the IT Handbook Management Booklet that addresses its retail payment business goals and objectives, including supporting IT components.\\\\xa0 Because financial institutions are increasingly reliant upon third-party service providers for retail payment system products and services, the strategic plan should address comprehensive vendor management.\", metadata={\\'title\\': \\'Strategic Risk\\', \\'paragraph_ordering\\': 0, \\'depth\\': 2, \\'section\\': \\'https://ithandbook.ffiec.gov/it-booklets/retail-payment-systems/\\', \\'ordering_ix\\': 26, \\'url\\': \\'https://ithandbook.ffiec.gov/it-booklets/retail-payment-systems/retail-payment-systems-risk-management/strategic-risk/\\'}), Document(page_content=\"Reputation risk-Errors, delays, or omissions in information technology that become public knowledge or directly affect customers can significantly affect the reputation of the serviced financial institutions. For example, a TSP\\'s failure to maintain adequate business resumption plans and facilities for key processes may impair the ability of serviced financial institutions to provide critical services to their customers.\\\\nStrategic risk-Inadequate management experience and expertise can lead to a lack of understanding and control of key risks. Additionally, inaccurate information from TSPs can cause the management of serviced financial institutions to make poor strategic decisions.\\\\nCompliance (legal) risk-Outsourced activities that fail to comply with legal or regulatory requirements can subject the institution to legal sanctions. For example, inaccurate or untimely consumer compliance disclosures or unauthorized disclosure of confidential customer information could expose the institution to civil money penalties or litigation. TSPs often agree to comply with banking regulations, but their failure to track regulatory changes could increase compliance risk for their serviced financial institutions.\\\\nInterest rate, liquidity, and price (market) risk-Processing errors related to investment income or repayment assumptions could lead to unwise investment or liquidity decisions thereby increasing market risks.\", metadata={\\'title\\': \\'Risk Assessment and Requirements\\', \\'paragraph_ordering\\': 4, \\'depth\\': 2, \\'section\\': \\'https://ithandbook.ffiec.gov/it-booklets/outsourcing-technology-services/\\', \\'ordering_ix\\': 3, \\'url\\': \\'https://ithandbook.ffiec.gov/it-booklets/outsourcing-technology-services/risk-management/risk-assessment-and-requirements/\\'}), Document(page_content=\"Risk\\\\nThe potential that events, expected or unanticipated, may have an adverse effect on a financial institution\\'s earnings, capital, or reputation.\", metadata={\\'title\\': \\'Appendix B: Glossary\\', \\'paragraph_ordering\\': 132, \\'depth\\': 1, \\'section\\': \\'https://ithandbook.ffiec.gov/it-booklets/management/\\', \\'ordering_ix\\': 38, \\'url\\': \\'https://ithandbook.ffiec.gov/it-booklets/management/appendix-b-glossary/\\'}), Document(page_content=\\'Strategic plans relating to the introduction of new retail payment system products and services.\\\\nThe development of internal pilot programs and partnerships with technology service providers introducing new retail payment systems and delivery channels.\\\\nThe extent to which existing Internet and e-banking products and services include new retail payment mechanisms.\\', metadata={\\'title\\': \\'Appendix A: Examination Procedures\\', \\'paragraph_ordering\\': 60, \\'depth\\': 1, \\'section\\': \\'https://ithandbook.ffiec.gov/it-booklets/retail-payment-systems/\\', \\'ordering_ix\\': 45, \\'url\\': \\'https://ithandbook.ffiec.gov/it-booklets/retail-payment-systems/appendix-a-examination-procedures/\\'})]}')], 'output': '{\\'query\\': \\'Strategic plans that include significant market expansion or the addition of new products and services may expose financial institutions to increased risks.\\', \\'result\\': \"Yes, strategic plans that involve significant market expansion or the addition of new products and services can expose financial institutions to increased risks. This is because entering new markets or introducing new products and services often involves uncertainties and challenges that can impact the institution\\'s earnings, capital, and reputation. It is important for financial institutions to carefully assess and manage these risks as part of their strategic planning process.\", \\'source_documents\\': [Document(page_content=\"Strategic risk is associated with the financial institution\\'s mission and future business plans.\\\\xa0 This risk category includes plans for entering new business lines, expanding existing services through mergers and acquisitions, and enhancing infrastructure (e.g., physical plant and equipment, IT, and networking).\\\\xa0 The variety of emerging technologies for retail payments demands integration of payment strategies into the financial institution\\'s overall strategic planning processes.\\\\xa0 Financial institutions also compete increasingly with highly innovative nonbank entities to provide retail payment services.\\\\xa0 This competition benefits the consumer through enhanced product offerings at a lower cost.\\\\xa0 Conversely, competition places additional pressure on financial institutions to protect profitability through the development of new products and services while managing additional marketing, research, and development costs.\\\\nStrategic plans that include significant market expansion or the addition of new products and services may expose financial institutions to increased risks.\\\\xa0 For example, expanding Internet banking services to include electronic bill presentment and payment services, expanding existing bankcard issuing programs, or entering the merchant bankcard processing business significantly increase the potential risk to the financial institution given the inherent risks associated with these services.\\\\xa0 Business plans for specific products and services should demonstrate that management has assessed the risks and documented the institution\\'s program to mitigate them.\\\\xa0 Such plans should address the institution\\'s capability to provide the service.\\\\xa0 Innovative products and services are emerging quickly and early stages of market introduction may expose financial institutions to undefined and unanticipated risks the need for an enterprise wide view of retail payment activities due to cross channel risk including fraud, money laundering, and IT security breaches.\\\\xa0 Business models for emerging products that are gaining acceptance abroad, particularly in Asia, may not be introduced as easily in the U.S. because of the differences in infrastructure and applications.\\\\nTo mitigate strategic risk, management should have a strategic planning processSee the IT Handbook Management Booklet that addresses its retail payment business goals and objectives, including supporting IT components.\\\\xa0 Because financial institutions are increasingly reliant upon third-party service providers for retail payment system products and services, the strategic plan should address comprehensive vendor management.\", metadata={\\'title\\': \\'Strategic Risk\\', \\'paragraph_ordering\\': 0, \\'depth\\': 2, \\'section\\': \\'https://ithandbook.ffiec.gov/it-booklets/retail-payment-systems/\\', \\'ordering_ix\\': 26, \\'url\\': \\'https://ithandbook.ffiec.gov/it-booklets/retail-payment-systems/retail-payment-systems-risk-management/strategic-risk/\\'}), Document(page_content=\"Reputation risk-Errors, delays, or omissions in information technology that become public knowledge or directly affect customers can significantly affect the reputation of the serviced financial institutions. For example, a TSP\\'s failure to maintain adequate business resumption plans and facilities for key processes may impair the ability of serviced financial institutions to provide critical services to their customers.\\\\nStrategic risk-Inadequate management experience and expertise can lead to a lack of understanding and control of key risks. Additionally, inaccurate information from TSPs can cause the management of serviced financial institutions to make poor strategic decisions.\\\\nCompliance (legal) risk-Outsourced activities that fail to comply with legal or regulatory requirements can subject the institution to legal sanctions. For example, inaccurate or untimely consumer compliance disclosures or unauthorized disclosure of confidential customer information could expose the institution to civil money penalties or litigation. TSPs often agree to comply with banking regulations, but their failure to track regulatory changes could increase compliance risk for their serviced financial institutions.\\\\nInterest rate, liquidity, and price (market) risk-Processing errors related to investment income or repayment assumptions could lead to unwise investment or liquidity decisions thereby increasing market risks.\", metadata={\\'title\\': \\'Risk Assessment and Requirements\\', \\'paragraph_ordering\\': 4, \\'depth\\': 2, \\'section\\': \\'https://ithandbook.ffiec.gov/it-booklets/outsourcing-technology-services/\\', \\'ordering_ix\\': 3, \\'url\\': \\'https://ithandbook.ffiec.gov/it-booklets/outsourcing-technology-services/risk-management/risk-assessment-and-requirements/\\'}), Document(page_content=\"Risk\\\\nThe potential that events, expected or unanticipated, may have an adverse effect on a financial institution\\'s earnings, capital, or reputation.\", metadata={\\'title\\': \\'Appendix B: Glossary\\', \\'paragraph_ordering\\': 132, \\'depth\\': 1, \\'section\\': \\'https://ithandbook.ffiec.gov/it-booklets/management/\\', \\'ordering_ix\\': 38, \\'url\\': \\'https://ithandbook.ffiec.gov/it-booklets/management/appendix-b-glossary/\\'}), Document(page_content=\\'Strategic plans relating to the introduction of new retail payment system products and services.\\\\nThe development of internal pilot programs and partnerships with technology service providers introducing new retail payment systems and delivery channels.\\\\nThe extent to which existing Internet and e-banking products and services include new retail payment mechanisms.\\', metadata={\\'title\\': \\'Appendix A: Examination Procedures\\', \\'paragraph_ordering\\': 60, \\'depth\\': 1, \\'section\\': \\'https://ithandbook.ffiec.gov/it-booklets/retail-payment-systems/\\', \\'ordering_ix\\': 45, \\'url\\': \\'https://ithandbook.ffiec.gov/it-booklets/retail-payment-systems/appendix-a-examination-procedures/\\'})]}'}\n"
     ]
    }
   ],
   "source": [
    "from langchain.prompts import PromptTemplate\n",
    "from langchain.chat_models import ChatOpenAI\n",
    "from langchain.chains import LLMChain, RetrievalQA\n",
    "from langchain.chains.conversation.memory import ConversationBufferMemory\n",
    "from langchain.agents import AgentType, initialize_agent\n",
    "from langchain.tools import Tool, YouTubeSearchTool\n",
    "from langchain.embeddings.openai import OpenAIEmbeddings\n",
    "from langchain.vectorstores.neo4j_vector import Neo4jVector\n",
    "from langchain.schema import StrOutputParser\n",
    "from langchain.output_parsers.json import SimpleJsonOutputParser\n",
    "\n",
    "llm = ChatOpenAI()\n",
    "\n",
    "memory = ConversationBufferMemory(memory_key=\"chat_history\", return_messages=True)\n",
    "\n",
    "prompt = PromptTemplate(\n",
    "    template=\"\"\"\n",
    "    You are a legal expert for bankers. You need to answer questions about FFIEC rules.\n",
    "    Short answers are great.\n",
    "    Answer should be valid text only. No json.\n",
    "    ChatHistory:{chat_history}\n",
    "    Question:{input}\n",
    "    \"\"\",\n",
    "    input_variables=[\"chat_history\", \"input\"]\n",
    "    )\n",
    "\n",
    "chat_chain = LLMChain(llm=llm, prompt=prompt, memory=memory, output_parser=StrOutputParser(), verbose=True)\n",
    "#vector_chain = LLMChain(llm=llm, prompt=prompt, memory=memory, output_parser=SimpleJsonOutputParser(), verbose=True)\n",
    "\n",
    "embedding_provider = OpenAIEmbeddings()\n",
    "\n",
    "ffiec_paragraph_vector = Neo4jVector.from_existing_index(\n",
    "    embedding_provider,\n",
    "    url=NEO4J_URI,\n",
    "    username=NEO4J_USER,\n",
    "    password=NEO4J_PASSWORD,\n",
    "    index_name=\"ffiec_text\",\n",
    "    embedding_node_property=\"text_v_embedding\",\n",
    "    text_node_property=\"paragraph_text\"\n",
    ")\n",
    "\n",
    "retrievalQA = RetrievalQA.from_llm(\n",
    "    llm=llm,\n",
    "    retriever=ffiec_paragraph_vector.as_retriever(),\n",
    "    verbose=True,\n",
    "    return_source_documents=True\n",
    ")\n",
    "\n",
    "def run_retriever(query):\n",
    "    results = retrievalQA({\"query\":query})\n",
    "    return str(results)\n",
    "\n",
    "tools = [\n",
    "    Tool.from_function(\n",
    "        name=\"ChatOpenAI\",\n",
    "        description=\"For when you need to chat about rules or laws. The question will be a string. Return a string.\",\n",
    "        func=chat_chain.run,\n",
    "        return_direct=True\n",
    "    ),\n",
    "    Tool.from_function(\n",
    "        name=\"ParagraphRetrieval\",\n",
    "        description=\"For when you need to compare a FFIEC rule. The question will be a string. Return a string.\",\n",
    "        func=run_retriever,\n",
    "        return_direct=True\n",
    "    )\n",
    "]\n",
    "\n",
    "agent = initialize_agent(\n",
    "    tools, llm, memory=memory,\n",
    "    agent=AgentType.CHAT_CONVERSATIONAL_REACT_DESCRIPTION,\n",
    "    verbose=True,\n",
    "    handle_parsing_errors=True,\n",
    ")\n",
    "\n",
    "while True:\n",
    "    q = input(\">\")\n",
    "    print(agent.invoke({\"input\": q}))\n",
    "    break"
   ]
  },
  {
   "cell_type": "code",
   "execution_count": 101,
   "id": "4deee2c1",
   "metadata": {},
   "outputs": [
    {
     "name": "stdout",
     "output_type": "stream",
     "text": [
      "Yes, strategic plans that involve significant market expansion or the addition of new products and services can expose financial institutions to increased risks. This is because entering new markets or introducing new products and services often involves uncertainties and challenges that can impact the institution's earnings, capital, and reputation. It is important for financial institutions to carefully assess and manage these risks as part of their strategic planning process.\n"
     ]
    }
   ],
   "source": [
    "print(\"Yes, strategic plans that involve significant market expansion or the addition of new products and services can expose financial institutions to increased risks. This is because entering new markets or introducing new products and services often involves uncertainties and challenges that can impact the institution's earnings, capital, and reputation. It is important for financial institutions to carefully assess and manage these risks as part of their strategic planning process.\")"
   ]
  },
  {
   "cell_type": "code",
   "execution_count": 110,
   "id": "11221eef",
   "metadata": {},
   "outputs": [
    {
     "name": "stderr",
     "output_type": "stream",
     "text": [
      "/Users/pierrehalftermeyer/opt/anaconda3/lib/python3.8/site-packages/langchain/vectorstores/neo4j_vector.py:167: ExperimentalWarning: The configuration may change in the future.\n",
      "  self._driver.verify_connectivity()\n"
     ]
    }
   ],
   "source": [
    "vector_index = Neo4jVector.from_existing_index(\n",
    "    OpenAIEmbeddings(),\n",
    "    url=NEO4J_URI,\n",
    "    username=NEO4J_USER,\n",
    "    password=NEO4J_PASSWORD,\n",
    "    index_name=\"ffiec_text\",\n",
    "    embedding_node_property=\"text_v_embedding\",\n",
    "    text_node_property=\"paragraph_text\"\n",
    ")\n"
   ]
  },
  {
   "cell_type": "code",
   "execution_count": 116,
   "id": "c2045701",
   "metadata": {},
   "outputs": [],
   "source": [
    "question =\"\"\"Strategic plans that include significant market expansion or the addition of new products and\n",
    "services may expose financial institutions to increased risks. Which ones ?\"\"\""
   ]
  },
  {
   "cell_type": "code",
   "execution_count": 117,
   "id": "112e91cd",
   "metadata": {},
   "outputs": [
    {
     "name": "stdout",
     "output_type": "stream",
     "text": [
      "Strategic risk is associated with the financial institution's mission and future business plans.  This risk category includes plans for entering new business lines, expanding existing services through mergers and acquisitions, and enhancing infrastructure (e.g., physical plant and equipment, IT, and networking).  The variety of emerging technologies for retail payments demands integration of payment strategies into the financial institution's overall strategic planning processes.  Financial institutions also compete increasingly with highly innovative nonbank entities to provide retail payment services.  This competition benefits the consumer through enhanced product offerings at a lower cost.  Conversely, competition places additional pressure on financial institutions to protect profitability through the development of new products and services while managing additional marketing, research, and development costs.\n",
      "Strategic plans that include significant market expansion or the addition of new products and services may expose financial institutions to increased risks.  For example, expanding Internet banking services to include electronic bill presentment and payment services, expanding existing bankcard issuing programs, or entering the merchant bankcard processing business significantly increase the potential risk to the financial institution given the inherent risks associated with these services.  Business plans for specific products and services should demonstrate that management has assessed the risks and documented the institution's program to mitigate them.  Such plans should address the institution's capability to provide the service.  Innovative products and services are emerging quickly and early stages of market introduction may expose financial institutions to undefined and unanticipated risks the need for an enterprise wide view of retail payment activities due to cross channel risk including fraud, money laundering, and IT security breaches.  Business models for emerging products that are gaining acceptance abroad, particularly in Asia, may not be introduced as easily in the U.S. because of the differences in infrastructure and applications.\n",
      "To mitigate strategic risk, management should have a strategic planning processSee the IT Handbook Management Booklet that addresses its retail payment business goals and objectives, including supporting IT components.  Because financial institutions are increasingly reliant upon third-party service providers for retail payment system products and services, the strategic plan should address comprehensive vendor management.\n"
     ]
    }
   ],
   "source": [
    "response = vector_index.similarity_search(question)\n",
    "print(response[0].page_content)"
   ]
  },
  {
   "cell_type": "code",
   "execution_count": 118,
   "id": "69b71b03",
   "metadata": {},
   "outputs": [
    {
     "name": "stdout",
     "output_type": "stream",
     "text": [
      "The increased risks that financial institutions may be exposed to when implementing strategic plans that include significant market expansion or the addition of new products and services include:\n",
      "\n",
      "1. Strategic risk: This refers to the risk associated with the financial institution's mission and future business plans. It includes risks related to entering new business lines, expanding existing services through mergers and acquisitions, and enhancing infrastructure. For example, expanding Internet banking services to include electronic bill presentment and payment services or entering the merchant bankcard processing business significantly increases the potential risk to the financial institution.\n",
      "\n",
      "2. Compliance (legal) risk: When financial institutions expand their services or enter new markets, they may face increased compliance risk. This risk arises when outsourced activities fail to comply with legal or regulatory requirements, exposing the institution to legal sanctions.\n",
      "\n",
      "3. Reputation risk: Expanding into new markets or introducing new products and services can also increase reputation risk. Errors, delays, or omissions in information technology that become public knowledge or directly affect customers can significantly affect the reputation of the financial institution.\n",
      "\n",
      "4. Market (interest rate, liquidity, and price) risk: Strategic plans that involve new products or services may result in processing errors related to investment income or repayment assumptions. These errors can lead to unwise investment or liquidity decisions, thereby increasing market risks.\n",
      "\n",
      "It is important for financial institutions to assess and mitigate these risks when implementing strategic plans for market expansion or the addition of new products and services.\n"
     ]
    }
   ],
   "source": [
    "vector_qa = RetrievalQA.from_chain_type(\n",
    "    llm=ChatOpenAI(), chain_type=\"stuff\", retriever=vector_index.as_retriever(k=1))\n",
    "\n",
    "print(\n",
    "    vector_qa.run(question)\n",
    ")\n"
   ]
  },
  {
   "cell_type": "code",
   "execution_count": null,
   "id": "1f255e07",
   "metadata": {},
   "outputs": [],
   "source": []
  }
 ],
 "metadata": {
  "kernelspec": {
   "display_name": "Python 3",
   "language": "python",
   "name": "python3"
  },
  "language_info": {
   "codemirror_mode": {
    "name": "ipython",
    "version": 3
   },
   "file_extension": ".py",
   "mimetype": "text/x-python",
   "name": "python",
   "nbconvert_exporter": "python",
   "pygments_lexer": "ipython3",
   "version": "3.8.8"
  }
 },
 "nbformat": 4,
 "nbformat_minor": 5
}
